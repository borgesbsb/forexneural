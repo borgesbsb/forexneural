{
 "metadata": {
  "language_info": {
   "codemirror_mode": {
    "name": "ipython",
    "version": 3
   },
   "file_extension": ".py",
   "mimetype": "text/x-python",
   "name": "python",
   "nbconvert_exporter": "python",
   "pygments_lexer": "ipython3",
   "version": "3.7.6-final"
  },
  "orig_nbformat": 2,
  "kernelspec": {
   "name": "python3",
   "display_name": "Python 3",
   "language": "python"
  }
 },
 "nbformat": 4,
 "nbformat_minor": 2,
 "cells": [
  {
   "cell_type": "code",
   "execution_count": null,
   "metadata": {},
   "outputs": [],
   "source": [
    "import socket\n",
    "import tensorflow as tf\n",
    "import numpy as np\n"
   ]
  },
  {
   "cell_type": "code",
   "execution_count": null,
   "metadata": {},
   "outputs": [],
   "source": [
    "def predicao(valores):\n",
    "    x_test = np.array(valores)\n",
    "    print(x_test)\n"
   ]
  },
  {
   "cell_type": "code",
   "execution_count": null,
   "metadata": {},
   "outputs": [],
   "source": [
    "host = '127.0.0.1'\n",
    "port = 8082\n",
    "data_payload = 1000 #The maximum amount of data to be received at once\n",
    "# Create a TCP socket\n",
    "sock = socket.socket(socket.AF_INET,  socket.SOCK_STREAM)\n",
    "# Enable reuse address/port \n",
    "sock.setsockopt(socket.SOL_SOCKET, socket.SO_REUSEADDR, 1)\n",
    "# Bind the socket to the port\n",
    "server_address = (host, port)\n",
    "print (\"Starting up echo server  on %s port %s\" % server_address)\n",
    "sock.bind(server_address)\n",
    "# Listen to clients, argument specifies the max no. of queued connections\n",
    "sock.listen(5) \n",
    "client, address = sock.accept()\n",
    "#Carreando o modelo neural\n",
    "# model = tf.keras.models.load_model('LSTM')\n",
    "# df = pd.read_csv('EURUSD.csv', sep=',', header=0)\n",
    "# sc = MinMaxScaler()\n",
    "# df_train = sc.fit_transform(df_train)\n",
    "\n",
    "try:\n",
    "    while True:\n",
    "        print (\"Aguardando dados\")\n",
    "        valores = []\n",
    "        data = client.recv(data_payload).decode('UTF-8') \n",
    "        if data:\n",
    "            valores = data.split(\",\")\n",
    "            predict = predicao(valores)\n",
    "            client.sendall(data.encode('utf-8'))\n",
    "except KeyboardInterrupt:\n",
    "    print(\"Encerrando Servidor de Previsões\")\n",
    "pass            \n",
    "\n"
   ]
  }
 ]
}