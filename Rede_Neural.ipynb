{
  "cells": [
    {
      "cell_type": "markdown",
      "metadata": {
        "id": "view-in-github",
        "colab_type": "text"
      },
      "source": [
        "<a href=\"https://colab.research.google.com/github/borgesbsb/forexneural/blob/main/Rede_Neural.ipynb\" target=\"_parent\"><img src=\"https://colab.research.google.com/assets/colab-badge.svg\" alt=\"Open In Colab\"/></a>"
      ]
    },
    {
      "cell_type": "code",
      "execution_count": 1,
      "metadata": {
        "id": "WCWlZg5XKKsk"
      },
      "outputs": [],
      "source": [
        "import pandas as pd\n",
        "import numpy as np\n",
        "import matplotlib.pyplot as plt\n",
        "from tensorflow.keras.models import Sequential\n",
        "from tensorflow.keras.layers import Dense, LSTM, Dropout\n",
        "from sklearn.preprocessing import MinMaxScaler\n",
        "from datetime import datetime\n",
        "from sklearn.model_selection import train_test_split\n",
        "from sklearn.metrics import precision_score, recall_score, accuracy_score, f1_score, ConfusionMatrixDisplay\n",
        "import matplotlib.pyplot as plt\n",
        "from IPython.display import display\n",
        "from sklearn.metrics import mean_squared_error # mesma funcao do MSE\n",
        "import pickle as pkl\n",
        "\n"
      ]
    },
    {
      "cell_type": "code",
      "execution_count": 12,
      "metadata": {
        "id": "rI5dv0F11UNT"
      },
      "outputs": [],
      "source": [
        "class Processing:\n",
        "    def __init__(self, currency, begining_training, end_training,begin_validate,end_validate, timestamp, features, target):\n",
        "        self.timestamp = timestamp\n",
        "        self.currency = currency\n",
        "        self.features  = features\n",
        "        self.target    = target\n",
        "        self.begining_training = begining_training\n",
        "        self.end_training      = end_training\n",
        "        self.begin_validate    = begin_validate\n",
        "        self.end_validate      = end_validate\n",
        "        self.df  = self.importDataset()\n",
        "        self.x_train =     []\n",
        "        self.y_train =     []\n",
        "        self.x_test  =     []\n",
        "        self.y_test  =     []\n",
        "        self.x_validate =  []\n",
        "        self.y_validate =  []\n",
        "        self.scaler_x =    None\n",
        "        self.scaler_y =    None\n",
        "        self.target =      target\n",
        "        self.df_training = None\n",
        "        self.df_test =     None\n",
        "        self.df_validade = None\n",
        "        self.splitData()\n",
        "\n",
        "    def importDataset(self):\n",
        "        parser = lambda x: pd.datetime.strptime(x, \"%Y-%m-%d %H:%M:%S\")\n",
        "        # df = pd.read_csv( '../csv/EURUSD-15M-1H.csv', sep=',', header=0, parse_dates=['time'],date_parser=parser) \n",
        "        df = pd.read_csv( '/content/drive/MyDrive/csv/EURUSD-15M-1H.csv', sep=',', header=0, parse_dates=['time'],date_parser=parser) \n",
        "        return df\n",
        "\n",
        "    def selectInterval(self, start, end):\n",
        "        mask = (self.df['time'] > start) & (self.df['time'] <= end )\n",
        "        return self.df.loc[mask]\n",
        "\n",
        "    def scalerDataset(self, dataset):\n",
        "        self.scaler_x = MinMaxScaler()\n",
        "        self.scaler_y = MinMaxScaler()\n",
        "        self.scaler_x.fit(dataset)\n",
        "        self.scaler_y.fit(self.df_training[[self.target]])\n",
        "        return self.scaler_x.transform(dataset)\n",
        "\n",
        "    def processXY(self, dataframe):\n",
        "        length = len(dataframe)\n",
        "        x_data = []\n",
        "        y_data = []\n",
        "        for i in range(self.timestamp, length-3):\n",
        "            x_data.append( dataframe[i-self.timestamp:i,:])\n",
        "            y_data.append( dataframe[i+3,self.features.index('close4')])\n",
        "        x_data = np.array(x_data)\n",
        "        y_data = np.array(y_data)\n",
        "        x_data = np.reshape(x_data, (x_data.shape[0], self.timestamp, len(self.features)))\n",
        "        return x_data, y_data\n",
        "\n",
        "    def splitData(self):\n",
        "        #Selecionando Intervalos de datas para treino\n",
        "        self.df_training = self.selectInterval(self.begining_training, self.end_training)\n",
        "        #selecionando colunas para treino\n",
        "        self.df_training = self.df_training[self.features]\n",
        "        #Escalando o dataset de treino usando a funcao MinMax()\n",
        "        self.x_train = self.scalerDataset(self.df_training)\n",
        "        self.x_train, self.y_train = self.processXY(self.x_train)\n",
        "        #Selecionando Intervalos de datas para teste\n",
        "        self.df_test     = self.selectInterval(self.end_training,   self.begin_validate)\n",
        "        self.df_validate = self.selectInterval(self.begin_validate, self.end_validate)\n",
        "       \n",
        "        #selecionando colunas do dataset para teste\n",
        "        self.x_test = self.df_test[self.features]\n",
        "        self.x_validate = self.df_validate[self.features]\n",
        "        \n",
        "        #Escalando o dataset de treino\n",
        "        self.x_test = self.scaler_x.transform(self.x_test)\n",
        "        self.x_validate = self.scaler_x.transform(self.x_validate)\n",
        "        #Processando o dataset com o shape adequado para a modelagem \n",
        "        self.x_test , self.y_test  = self.processXY( self.x_test )\n",
        "        self.x_validate, self.y_validate = self.processXY( self.x_validate )\n",
        "\n"
      ]
    },
    {
      "cell_type": "code",
      "execution_count": 15,
      "metadata": {
        "id": "JJ69x2BB5xkW"
      },
      "outputs": [],
      "source": [
        "class Training:\n",
        "    def __init__(self, ds, neurons, timestamp, features, epochs):\n",
        "        self.model = None\n",
        "        self.ds = ds\n",
        "        self.neurons = neurons\n",
        "        self.timestamp = timestamp\n",
        "        self.features = features\n",
        "        self.epochs = epochs\n",
        "        self.trainingLSTM()\n",
        "    \n",
        "    def configuringLSTM(self):\n",
        "        self.model = Sequential()\n",
        "        self.model.add(LSTM(units = self.neurons, return_sequences = False,    input_shape=( self.timestamp , len(self.features) ) ))\n",
        "        # self.model.add(Dense(800))\n",
        "        self.model.add(Dense(1))\n",
        "\n",
        "        # self.model.add(Dropout(0.01))\n",
        "\n",
        "    def trainingLSTM(self):\n",
        "        from matplotlib import pyplot\n",
        "        self.configuringLSTM()\n",
        "        self.model.compile(loss='mae', optimizer='adam', metrics=['accuracy'])\n",
        "        self.model.fit(self.ds.x_train, self.ds.y_train, epochs = self.epochs,  verbose=1, validation_data=(self.ds.x_test,self.ds.y_test))\n",
        "        pyplot.plot(self.model.history.history['loss'])\n",
        "        pyplot.plot(self.model.history.history['val_loss'])\n",
        "        pyplot.title('model train vs validation loss with = '+str(self.epochs) + ' epochs and = '+str(self.neurons)+' Neurons ' )\n",
        "        pyplot.ylabel('loss')\n",
        "        pyplot.xlabel('epoch')\n",
        "        pyplot.legend(['train', 'validation'], loc='upper right')\n",
        "        pyplot.show()\n",
        "\n",
        "    \n",
        "\n",
        "    def saveLSTM(self):\n",
        "        self.model.save('/content/drive/MyDrive/csv/LSTM_'+self.ds.currency)\n",
        "        with open(\"/content/drive/MyDrive/csv/scaler_x.pkl\", \"wb\") as scaler_x:\n",
        "            pkl.dump(self.ds.scaler_x, scaler_x)\n",
        "        with open(\"/content/drive/MyDrive/csv/scaler_y.pkl\", \"wb\") as scaler_y:\n",
        "            pkl.dump(self.ds.scaler_y, scaler_y)"
      ]
    },
    {
      "cell_type": "code",
      "execution_count": 4,
      "metadata": {
        "id": "htmGXh3J6YGs"
      },
      "outputs": [],
      "source": [
        "class Testing:\n",
        "    def __init__(self, modelTraining, ds):\n",
        "        self.modelTraining = modelTraining\n",
        "        self.ds = ds\n",
        "        self.y_pred = []\n",
        "        self.predictedPrice = []\n",
        "        self.predictedPrice_validate = []\n",
        "        self.prevision = None\n",
        "        self.prevision_validate = None\n",
        "        self.time = None\n",
        "        self.time_validate = None\n",
        "        self.max = None\n",
        "        self.max_validate = None\n",
        "        self.min = None\n",
        "        self.min_validate = None\n",
        "        self.open = None\n",
        "        self.result_to_csv = None\n",
        "        self.result_to_csv_validate = None\n",
        "        self.predicting()\n",
        "        self.estatistical()\n",
        "        self.rmse = 0\n",
        "        self.acuracy = self.estatistical_pred(len(self.predictedPrice))\n",
        "        \n",
        "    def predicting(self):\n",
        "        self.predictedPrice = self.modelTraining.model.predict(\n",
        "            self.ds.x_test)\n",
        "        self.predictedPrice_validate = self.modelTraining.model.predict(\n",
        "            self.ds.x_validate)\n",
        "        self.predictedPrice = self.ds.scaler_y.inverse_transform(\n",
        "            self.predictedPrice)\n",
        "        self.predictedPrice_validate = self.ds.scaler_y.inverse_transform(\n",
        "            self.predictedPrice_validate)\n",
        "        self.rmse = mean_squared_error(self.ds.y_test, self.predictedPrice, squared=False)\n",
        "        \n",
        "\n",
        "    \n",
        "    def estatistical(self):\n",
        "        self.y_test = pd.DataFrame(data=self.ds.df_test['close4'].shift(-(self.ds.timestamp+3)).dropna().values, columns=['Y_TEST'] )\n",
        "        self.open = pd.DataFrame(data=self.ds.df_test['open1'].shift(-(self.ds.timestamp+3)).dropna().values, columns=['Abertura'])\n",
        "        self.prevision = pd.DataFrame( data=self.predictedPrice, columns=['Previsão'])\n",
        "        self.prevision_validate = pd.DataFrame( data=self.predictedPrice_validate, columns=['Previsão'])\n",
        "        self.time = pd.DataFrame( data=self.ds.df_test['time'].shift(-(self.ds.timestamp+3)).dropna().values, columns=['Data'])\n",
        "        self.time_validate = pd.DataFrame( data=self.ds.df_validate['time'].shift(-(self.ds.timestamp+3)).dropna().values, columns=['Data'])\n",
        "        \n",
        "        self.maxima = pd.DataFrame(data=self.ds.df_test[['max1','max2','max3']].max(axis=1).shift(-(self.ds.timestamp+3)).dropna().values, columns=['Máxima'])\n",
        "        \n",
        "        self.maxima_validate = pd.DataFrame(data=self.ds.df_validate[['max1','max2','max3','max4']].max(axis=1).shift(-(self.ds.timestamp+3)).dropna().values, columns=['Máxima'])\n",
        "                      \n",
        "        self.minima = pd.DataFrame(data=self.ds.df_test[['min1','min2','min3']].min(axis=1).shift(-(self.ds.timestamp+3)).dropna().values, columns=['Minima'])\n",
        "        \n",
        "        self.minima_validate = pd.DataFrame(data=self.ds.df_validate[['min1','min2','min3','min4']].min(axis=1).shift(-(self.ds.timestamp+3)).dropna().values, columns=['Minima'])\n",
        "        \n",
        "        frames_to_csv = [ self.time, self.maxima, self.minima, self.prevision]\n",
        "        frames_to_csv_validate = [ self.time_validate, self.maxima_validate, self.minima_validate, self.prevision_validate]\n",
        "        self.result_to_csv = pd.concat( frames_to_csv, axis=1, join='inner')\n",
        "        self.result_to_csv_validate = pd.concat( frames_to_csv_validate, axis=1, join='inner')\n",
        "\n",
        "    def saveToCsv(self):\n",
        "        self.result_to_csv_validate.to_csv(\n",
        "            'previsoes_'+self.ds.currency, mode='a', header=False, index=False)\n",
        "\n",
        "    def graphicMaxMin(self, window):\n",
        "        y_test = []\n",
        "        y_test = self.ds.df_test['close4'].shift(\n",
        "            -self.ds.timestamp).dropna()\n",
        "        plt.plot(y_test[:window], color='red',\n",
        "                  label='Preço Atual das Ações')\n",
        "        plt.plot(\n",
        "            y_test.index.values[:window], self.prevision.iloc[:window, 0], '.')\n",
        "        plt.fill_between(\n",
        "            y_test.index.values[:window], self.maxima.iloc[:window, 0], self.minima.iloc[:window, 0], alpha=0.5)\n",
        "        plt.title('Previsão de Preço de Ações')\n",
        "        plt.xlabel('Tempo')\n",
        "        plt.ylabel('Preço das Ações')\n",
        "        plt.legend()\n",
        "        plt.show()\n",
        "        print(self.modelTraining.model.evaluate(\n",
        "            self.ds.x_test, y_test, verbose=0)*100)\n",
        "\n",
        "    def estatistical_pred(self, window):\n",
        "        self.acertos = 0\n",
        "        resumo_acumulado = []\n",
        "        self.erros = 0\n",
        "        for i in range(window):\n",
        "            soma = 0\n",
        "            if self.prevision.iloc[i, 0] in pd.Interval(left=self.minima.iloc[i, 0], right=self.maxima.iloc[i, 0]):\n",
        "                soma = abs(\n",
        "                    self.prevision.iloc[i, 0] - self.open.iloc[i, 0])\n",
        "                soma = int(soma*100000)\n",
        "                self.acertos = self.acertos + 1\n",
        "            else:\n",
        "                if self.y_test.iloc[i, 0] > self.open.iloc[i, 0]:\n",
        "                    if self.prevision.iloc[i, 0] > self.open.iloc[i, 0]:\n",
        "                        soma = abs(\n",
        "                            self.y_test.iloc[i, 0] - self.open.iloc[i, 0])\n",
        "                        soma = int(soma*10000)\n",
        "                        self.acertos = self.acertos + 1\n",
        "                    else:\n",
        "                        soma = self.open.iloc[i, 0] - \\\n",
        "                            self.y_test.iloc[i, 0]\n",
        "                        soma = int(soma*10000)\n",
        "                        self.erros = self.erros + 1\n",
        "                else:\n",
        "                    if self.prevision.iloc[i, 0] < self.open.iloc[i, 0]:\n",
        "                        soma = abs(\n",
        "                            self.y_test.iloc[i, 0] - self.open.iloc[i, 0])\n",
        "                        soma = int(soma*10000)\n",
        "                        self.acertos = self.acertos + 1\n",
        "                    else:\n",
        "                        soma = self.y_test.iloc[i,\n",
        "                                                0] - self.open.iloc[i, 0]\n",
        "                        soma = int(soma*10000)\n",
        "                        self.erros = self.erros + 1\n",
        "        portcentagem = self.acertos*100/window\n",
        "        print(\"Acertos: \", self.acertos)\n",
        "        print(\"Erros: \", self.erros)\n",
        "        print(\"%\", portcentagem)\n",
        "        resumo_acumulado = pd.DataFrame(\n",
        "        data=resumo_acumulado, columns=['Resumo Acumulado '])\n",
        "        return portcentagem"
      ]
    },
    {
      "cell_type": "code",
      "execution_count": 5,
      "metadata": {
        "colab": {
          "base_uri": "https://localhost:8080/"
        },
        "id": "mZDuwEwa6ZRs",
        "outputId": "80aeb0e7-cd7c-4cc5-d236-8bf82ea73462"
      },
      "outputs": [
        {
          "output_type": "stream",
          "name": "stdout",
          "text": [
            "Mounted at /content/drive\n"
          ]
        }
      ],
      "source": [
        "from google.colab import drive\n",
        "drive.mount('/content/drive')"
      ]
    },
    {
      "cell_type": "code",
      "execution_count": 6,
      "metadata": {
        "id": "JJFm3LkRD14u"
      },
      "outputs": [],
      "source": [
        "# def running_test(epochs,neurons):\n",
        "#     begining_training = '2016-01-01 00:00:00'\n",
        "#     end_training =      '2021-11-03 00:00:00'\n",
        "#     begin_validate =    '2017-04-03 00:00:00'\n",
        "#     end_validate =      '2017-05-03 00:00:00'\n",
        "#     currency          = 'EURUSD-15M-1H'\n",
        "#     features          = ['open1','max1','min1','open2','max2','min2','open3','max3','min3','open4','max4','min4','close4']\n",
        "#     target            = 'close4'\n",
        "#     timestamp = 2\n",
        "#     neurons = 3200\n",
        "#     epochs  = 150\n",
        "#     datasetProcessed = Processing( currency, begining_training, end_training, begin_validate, end_validate, timestamp, features, target  )\n",
        "#     modelTrained = Training( datasetProcessed, neurons, timestamp, features, epochs )\n",
        "#     return datasetProcessed, modelTrained"
      ]
    },
    {
      "cell_type": "code",
      "execution_count": 7,
      "metadata": {
        "id": "JVGxKQFdSWZw"
      },
      "outputs": [],
      "source": [
        "# dataset, model = running_test(epochs=150,neurons=3200)\n",
        "# estatisticalTested  = Testing( model, dataset )\n",
        "# # estatisticalTested  = Testing( model, dataset )\n",
        "# if estatisticalTested.acuracy > best_accuracy:\n",
        "#       best_accuracy = estatisticalTested.acuracy\n",
        "#       print('Melhor Aproveitamento = '+str(np.round(best_accuracy,2))+'%')\n",
        "#       print('Acertos = '+str(estatisticalTested.acertos))\n",
        "#       print('Erros = '+str(estatisticalTested.erros)+'\\n')\n",
        "#       save_to_csv = estatisticalTested"
      ]
    },
    {
      "cell_type": "code",
      "source": [
        "# estatisticalTested.predicting()"
      ],
      "metadata": {
        "id": "PJ4983KU9YX6"
      },
      "execution_count": 8,
      "outputs": []
    },
    {
      "cell_type": "code",
      "source": [
        "# estatisticalTested.saveToCsv()"
      ],
      "metadata": {
        "id": "ayLosKe04QKa"
      },
      "execution_count": 9,
      "outputs": []
    },
    {
      "cell_type": "markdown",
      "source": [
        "# Nova seção"
      ],
      "metadata": {
        "id": "T7RKLojv456N"
      }
    },
    {
      "cell_type": "code",
      "execution_count": 10,
      "metadata": {
        "id": "kXrcXs3L0yvR"
      },
      "outputs": [],
      "source": [
        "# estatisticalTested  = Testing( model, dataset )\n",
        "# if estatisticalTested.acuracy > best_accuracy:\n",
        "#       best_accuracy = estatisticalTested.acuracy\n",
        "#       best_epochs = epochs_i\n",
        "#       best_neurons = neurons_i\n",
        "#       print('Melhor Aproveitamento = '+str(np.round(best_accuracy,2))+'%')\n",
        "#       print('Epochs = ',best_epochs)\n",
        "#       print('Neurons = ', best_neurons)\n",
        "#       print('Acertos = '+str(estatisticalTested.acertos))\n",
        "#       print('Erros = '+str(estatisticalTested.erros)+'\\n')\n",
        "#       save_to_csv = estatisticalTested"
      ]
    },
    {
      "cell_type": "code",
      "source": [
        "best_accuracy = 0\n",
        "for ano in range(2021,2022):\n",
        "    for mes in range(11,12):\n",
        "        if mes == 0:\n",
        "            print('Ano = '+str(ano)+' - '+ 'Mes = '+str(mes)+' - Neurons = '+str(3200)+' -  Epochs = '+str(150)+' - Loop = '+str(1) )    \n",
        "            begining_training = str(ano-6)+'-01'+'-01 00:00:00'\n",
        "            end_training      = str(ano-1)+'-12'+'-30 00:00:00'\n",
        "            begin_validate    = str(ano)+'-01'+'-03 00:00:00'\n",
        "            end_validate      = str(ano)+'-02'+'-01 00:00:00'\n",
        "        else:\n",
        "            print('Ano = '+str(ano)+' - '+ 'Mes = '+str(mes)+' - Neurons = '+str(3200)+' -  Epochs = '+str(150)+' - Loop = '+str(1) )    \n",
        "            begining_training = str(ano-6)+'-'+str(mes)+'-01 00:00:00'\n",
        "            end_training      = str(ano)+'-'+str(mes)+'-01 00:00:00'\n",
        "            begin_validate    = str(ano)+'-'+str(mes+1)+'-01 00:00:00'\n",
        "            if mes+2 < 13:\n",
        "                end_validate      = str(ano)+'-'+str(mes+2)+'-01 00:00:00'\n",
        "            else:\n",
        "                end_validate      = str(ano)+'-'+'12'+'-30 00:00:00'\n",
        "        \n",
        "        currency          = 'EURUSD-15M-1H'\n",
        "        features          = ['open1','max1','min1','open2','max2','min2','open3','max3','min3','open4','max4','min4','close4']\n",
        "        target            = 'close4'\n",
        "        timestamp = 2\n",
        "        neurons = 20\n",
        "        epochs  = 5\n",
        "        datasetProcessed = Processing( currency, begining_training, end_training, begin_validate, end_validate, timestamp, features, target  )\n",
        "        modelTrained = Training( datasetProcessed, neurons, timestamp, features, epochs )\n",
        "        estatisticalTested  = Testing( modelTrained, datasetProcessed )\n",
        "        if estatisticalTested.acuracy > best_accuracy:\n",
        "                         best_accuracy = estatisticalTested.acuracy\n",
        "                         print('Melhor Aproveitamento = '+str(np.round(best_accuracy,2))+'%')\n",
        "                         print('Acertos = '+str(estatisticalTested.acertos))\n",
        "                         print('Erros = '+str(estatisticalTested.erros)+'\\n')\n",
        "                         save_to_csv = estatisticalTested\n"
      ],
      "metadata": {
        "id": "JTq_2YoMLeoZ",
        "colab": {
          "base_uri": "https://localhost:8080/",
          "height": 645
        },
        "outputId": "dcb627b7-7cc7-4ae4-c8d5-86a49ba92049"
      },
      "execution_count": 18,
      "outputs": [
        {
          "output_type": "stream",
          "name": "stdout",
          "text": [
            "Ano = 2021 - Mes = 11 - Neurons = 3200 -  Epochs = 150 - Loop = 1\n"
          ]
        },
        {
          "output_type": "stream",
          "name": "stderr",
          "text": [
            "/usr/local/lib/python3.7/dist-packages/ipykernel_launcher.py:27: FutureWarning: The pandas.datetime class is deprecated and will be removed from pandas in a future version. Import from datetime module instead.\n"
          ]
        },
        {
          "output_type": "stream",
          "name": "stdout",
          "text": [
            "Epoch 1/5\n",
            "4664/4664 [==============================] - 18s 4ms/step - loss: 0.0065 - accuracy: 1.3403e-05 - val_loss: 0.0044 - val_accuracy: 0.0000e+00\n",
            "Epoch 2/5\n",
            "4664/4664 [==============================] - 16s 4ms/step - loss: 0.0041 - accuracy: 1.3403e-05 - val_loss: 0.0048 - val_accuracy: 0.0000e+00\n",
            "Epoch 3/5\n",
            "4664/4664 [==============================] - 16s 4ms/step - loss: 0.0040 - accuracy: 1.3403e-05 - val_loss: 0.0031 - val_accuracy: 0.0000e+00\n",
            "Epoch 4/5\n",
            "4664/4664 [==============================] - 16s 4ms/step - loss: 0.0038 - accuracy: 1.3403e-05 - val_loss: 0.0038 - val_accuracy: 0.0000e+00\n",
            "Epoch 5/5\n",
            "4664/4664 [==============================] - 16s 3ms/step - loss: 0.0037 - accuracy: 1.3403e-05 - val_loss: 0.0029 - val_accuracy: 0.0000e+00\n"
          ]
        },
        {
          "output_type": "display_data",
          "data": {
            "image/png": "[encoded data removed]",
            "text/plain": [
              "<Figure size 432x288 with 1 Axes>"
            ]
          },
          "metadata": {
            "needs_background": "light"
          }
        },
        {
          "output_type": "stream",
          "name": "stdout",
          "text": [
            "Acertos:  1753\n",
            "Erros:  349\n",
            "% 83.39676498572788\n",
            "Melhor Aproveitamento = 83.4%\n",
            "Acertos = 1753\n",
            "Erros = 349\n",
            "\n"
          ]
        }
      ]
    },
    {
      "cell_type": "code",
      "source": [
        "save_to_csv.saveToCsv()"
      ],
      "metadata": {
        "id": "5HKBhYoPhcVc"
      },
      "execution_count": null,
      "outputs": []
    },
    {
      "cell_type": "code",
      "source": [
        ""
      ],
      "metadata": {
        "id": "etRe4eQ2dHMc"
      },
      "execution_count": null,
      "outputs": []
    }
  ],
  "metadata": {
    "accelerator": "GPU",
    "colab": {
      "collapsed_sections": [],
      "name": "Rede-Neural.ipynb",
      "provenance": [],
      "include_colab_link": true
    },
    "kernelspec": {
      "display_name": "Python 3",
      "name": "python3"
    },
    "language_info": {
      "codemirror_mode": {
        "name": "ipython",
        "version": 3
      },
      "file_extension": ".py",
      "mimetype": "text/x-python",
      "name": "python",
      "nbconvert_exporter": "python",
      "pygments_lexer": "ipython3",
      "version": "3.7.6"
    }
  },
  "nbformat": 4,
  "nbformat_minor": 0
}